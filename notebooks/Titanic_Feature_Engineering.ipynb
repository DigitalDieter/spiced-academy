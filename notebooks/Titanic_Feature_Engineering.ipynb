{
 "cells": [
  {
   "cell_type": "markdown",
   "metadata": {},
   "source": [
    "2.2.1. Project: Predict survival on the Titanic"
   ]
  },
  {
   "cell_type": "markdown",
   "metadata": {},
   "source": [
    "\n",
    "Feature Engineering is a number of data preprocessing techniques to apply before building a model. It includes:\n",
    "concept\tdescription\n",
    "normalizing\tde-mean, scale or otherwise transform features\n",
    "scaling\tshift the mean and standard deviation\n",
    "imputation\tfill missing values\n",
    "one-hot encoding\tconvert categories to binary columns\n",
    "add features\tadd extra polynomial or combined features\n",
    "feature selection\tdecide which features to use\n",
    "How much and what kind of preprocessing is required strongly depends on your data and the model you want to build\n",
    "\n",
    "\n",
    "More pandas commands\n",
    "\n",
    "- pandas.DataFrame.cut()\n",
    "- pandas.DataFrame.qcut()\n",
    "- pandas.DataFrame.isna()\n",
    "- pandas.DataFrame.dropna()\n",
    "- pandas.get_dummies()\n",
    "- pandas.factorize()\n",
    "- pandas.get_dummies()\n"
   ]
  },
  {
   "cell_type": "markdown",
   "metadata": {},
   "source": [
    "## Feature Engineering"
   ]
  },
  {
   "cell_type": "code",
   "execution_count": 1,
   "metadata": {
    "ExecuteTime": {
     "end_time": "2019-07-24T15:25:07.438273Z",
     "start_time": "2019-07-24T15:25:07.430397Z"
    }
   },
   "outputs": [
    {
     "name": "stdout",
     "output_type": "stream",
     "text": [
      "Python: 3.7.3 | packaged by conda-forge | (default, Jul  1 2019, 21:52:21) \n",
      "[GCC 7.3.0]\n",
      "scipy: 1.3.0\n",
      "numpy: 1.16.4\n",
      "matplotlib: 3.0.3\n",
      "pandas: 0.24.2\n",
      "sklearn: 0.21.2\n"
     ]
    }
   ],
   "source": [
    "# Check the versions of libraries\n",
    "\n",
    "# Python version\n",
    "import sys\n",
    "print('Python: {}'.format(sys.version))\n",
    "# scipy\n",
    "import scipy\n",
    "print('scipy: {}'.format(scipy.__version__))\n",
    "# numpy\n",
    "import numpy\n",
    "print('numpy: {}'.format(numpy.__version__))\n",
    "# matplotlib\n",
    "import matplotlib\n",
    "print('matplotlib: {}'.format(matplotlib.__version__))\n",
    "# pandas\n",
    "import pandas\n",
    "print('pandas: {}'.format(pandas.__version__))\n",
    "# scikit-learn\n",
    "import sklearn\n",
    "print('sklearn: {}'.format(sklearn.__version__))"
   ]
  },
  {
   "cell_type": "code",
   "execution_count": 2,
   "metadata": {
    "ExecuteTime": {
     "end_time": "2019-07-24T15:25:28.685488Z",
     "start_time": "2019-07-24T15:25:28.658141Z"
    }
   },
   "outputs": [
    {
     "name": "stdout",
     "output_type": "stream",
     "text": [
      "\u001b[1m 1.16.4 \u001b[0m\n"
     ]
    }
   ],
   "source": [
    "\n",
    "import numpy as np\n",
    "import pandas as pd\n",
    "import seaborn as sb\n",
    "import matplotlib.pyplot as plt\n",
    "import sklearn\n",
    "\n",
    "from pandas import Series, DataFrame\n",
    "from pylab import rcParams\n",
    "from sklearn.tree import DecisionTreeClassifier\n",
    "from sklearn.linear_model import LogisticRegression\n",
    "from sklearn.model_selection import train_test_split\n",
    "from sklearn import metrics \n",
    "from sklearn.metrics import classification_report\n",
    "\n",
    "#define formating\n",
    "_bold = '\\033[1m'\n",
    "_red = '\\033[1;31m'\n",
    "_blue  ='\\033[1;34m'\n",
    "_cyan = '\\033[1;36m'\n",
    "_green = '\\033[0;32m'\n",
    "_reset = '\\033[0m'\n",
    "\n",
    "print(_bold , np.__version__,_reset)\n",
    "\n",
    "def import_data():\n",
    "    _filedir = 'data/titamic/'\n",
    "    _filename = 'train'\n",
    "    _file = _filedir + _filename + '.csv'\n",
    "    return _file\n",
    "\n",
    "\n",
    "def get_dataframe():\n",
    "    #pd.read_csv(import_data())\n",
    "    file_df = pd.read_csv(import_data())\n",
    "    return file_df\n",
    "\n",
    "\n",
    "\n",
    "def get_info():\n",
    "    print(_bold, \"Columns:\", _reset)\n",
    "    print(\"\")\n",
    "    print(get_dataframe().columns)\n",
    "    print(\"\")\n",
    "    print(_bold, \"Shape:\", _reset,get_dataframe().shape )\n",
    "    print(\"\")\n",
    "    print(_bold, \"Missing values:\", _reset)\n",
    "    print(\"\")\n",
    "    print(get_dataframe().isnull().sum())\n",
    "    print(\"\")\n",
    "    print(_bold, \"NaN values:\", _reset)\n",
    "    print(\"\")\n",
    "    print(get_dataframe().isna().sum())\n",
    "\n",
    "\n",
    "def import_data():\n",
    "    _filedir = 'data/titanic/'\n",
    "    _filename = 'train'\n",
    "    _file = _filedir + _filename + '.csv'\n",
    "    return _file\n",
    "\n",
    "\n",
    "def get_dataframe():\n",
    "    #pd.read_csv(import_data())\n",
    "    file_df = pd.read_csv(import_data())\n",
    "    return file_df\n",
    "\n",
    "\n",
    "def get_null_data():\n",
    "    null_data = get_dataframe().isnull().sum()\n",
    "    return null_data\n",
    "\n",
    "\n",
    "def get_nan_data():\n",
    "    na_data = get_dataframe().isna().sum()\n",
    "    return na_data\n",
    "\n",
    "\n",
    "def copy_data():\n",
    "    file_df = pd.read_csv(import_data())\n",
    "    file_df_copy = file_df.copy()\n",
    "    return file_df_copy\n",
    "\n",
    "\n",
    "def fillna():\n",
    "    filled_na = dropped_df.fillna(method='bfill')  \n",
    "    return filled_na\n",
    "\n",
    "\n",
    "def multi_drop():\n",
    "    multi_dropped = copy_data().drop(['PassengerId','Name','Ticket','Cabin'],axis=1)\n",
    "    return multi_dropped\n",
    "\n",
    "\n",
    "def feature_engineer(dataframe):\n",
    "    d = {'female': 0,\n",
    "         'male': 1}\n",
    "    dataframe1 = dataframe.copy()\n",
    "    dataframe1['Sex'] = dataframe1['Sex'].map(d)\n",
    "    return dataframe1\n",
    "\n",
    "\n",
    "def create_np_array():\n",
    "    X = np.array([1 if x == 'male' else 0 for x in get_dataframe()['Sex']]).reshape(-1,1)\n",
    "    return X\n",
    "    y = get_dataframe()['Survived']   \n",
    "    return y\n",
    "\n"
   ]
  },
  {
   "cell_type": "markdown",
   "metadata": {},
   "source": [
    "#### Get file info\n"
   ]
  },
  {
   "cell_type": "code",
   "execution_count": 3,
   "metadata": {
    "ExecuteTime": {
     "end_time": "2019-07-24T15:22:21.250190Z",
     "start_time": "2019-07-24T15:22:21.195780Z"
    }
   },
   "outputs": [
    {
     "name": "stdout",
     "output_type": "stream",
     "text": [
      "\u001b[1m Columns: \u001b[0m\n",
      "\n",
      "Index(['PassengerId', 'Survived', 'Pclass', 'Name', 'Sex', 'Age', 'SibSp',\n",
      "       'Parch', 'Ticket', 'Fare', 'Cabin', 'Embarked'],\n",
      "      dtype='object')\n",
      "\n",
      "\u001b[1m Shape: \u001b[0m (891, 12)\n",
      "\n",
      "\u001b[1m Missing values: \u001b[0m\n",
      "\n",
      "PassengerId      0\n",
      "Survived         0\n",
      "Pclass           0\n",
      "Name             0\n",
      "Sex              0\n",
      "Age            177\n",
      "SibSp            0\n",
      "Parch            0\n",
      "Ticket           0\n",
      "Fare             0\n",
      "Cabin          687\n",
      "Embarked         2\n",
      "dtype: int64\n",
      "\n",
      "\u001b[1m NaN values: \u001b[0m\n",
      "\n",
      "PassengerId      0\n",
      "Survived         0\n",
      "Pclass           0\n",
      "Name             0\n",
      "Sex              0\n",
      "Age            177\n",
      "SibSp            0\n",
      "Parch            0\n",
      "Ticket           0\n",
      "Fare             0\n",
      "Cabin          687\n",
      "Embarked         2\n",
      "dtype: int64\n"
     ]
    }
   ],
   "source": [
    "get_info()"
   ]
  },
  {
   "cell_type": "code",
   "execution_count": 4,
   "metadata": {},
   "outputs": [
    {
     "data": {
      "text/plain": [
       "'data/titanic/train.csv'"
      ]
     },
     "execution_count": 4,
     "metadata": {},
     "output_type": "execute_result"
    }
   ],
   "source": [
    "\n",
    "def import_data():\n",
    "    _filedir = 'data/titanic/'\n",
    "    _filename = 'train'\n",
    "    _file = _filedir + _filename + '.csv'\n",
    "    return _file\n",
    "\n",
    "import_data()"
   ]
  },
  {
   "cell_type": "markdown",
   "metadata": {},
   "source": [
    "#### Remove columns\n"
   ]
  },
  {
   "cell_type": "code",
   "execution_count": 5,
   "metadata": {
    "ExecuteTime": {
     "end_time": "2019-07-24T15:22:27.858999Z",
     "start_time": "2019-07-24T15:22:27.823979Z"
    }
   },
   "outputs": [
    {
     "data": {
      "text/html": [
       "<div>\n",
       "<style scoped>\n",
       "    .dataframe tbody tr th:only-of-type {\n",
       "        vertical-align: middle;\n",
       "    }\n",
       "\n",
       "    .dataframe tbody tr th {\n",
       "        vertical-align: top;\n",
       "    }\n",
       "\n",
       "    .dataframe thead th {\n",
       "        text-align: right;\n",
       "    }\n",
       "</style>\n",
       "<table border=\"1\" class=\"dataframe\">\n",
       "  <thead>\n",
       "    <tr style=\"text-align: right;\">\n",
       "      <th></th>\n",
       "      <th>Survived</th>\n",
       "      <th>Pclass</th>\n",
       "      <th>Sex</th>\n",
       "      <th>Age</th>\n",
       "      <th>SibSp</th>\n",
       "      <th>Parch</th>\n",
       "      <th>Fare</th>\n",
       "      <th>Embarked</th>\n",
       "    </tr>\n",
       "  </thead>\n",
       "  <tbody>\n",
       "    <tr>\n",
       "      <th>0</th>\n",
       "      <td>0</td>\n",
       "      <td>3</td>\n",
       "      <td>male</td>\n",
       "      <td>22.0</td>\n",
       "      <td>1</td>\n",
       "      <td>0</td>\n",
       "      <td>7.2500</td>\n",
       "      <td>S</td>\n",
       "    </tr>\n",
       "    <tr>\n",
       "      <th>1</th>\n",
       "      <td>1</td>\n",
       "      <td>1</td>\n",
       "      <td>female</td>\n",
       "      <td>38.0</td>\n",
       "      <td>1</td>\n",
       "      <td>0</td>\n",
       "      <td>71.2833</td>\n",
       "      <td>C</td>\n",
       "    </tr>\n",
       "    <tr>\n",
       "      <th>2</th>\n",
       "      <td>1</td>\n",
       "      <td>3</td>\n",
       "      <td>female</td>\n",
       "      <td>26.0</td>\n",
       "      <td>0</td>\n",
       "      <td>0</td>\n",
       "      <td>7.9250</td>\n",
       "      <td>S</td>\n",
       "    </tr>\n",
       "    <tr>\n",
       "      <th>3</th>\n",
       "      <td>1</td>\n",
       "      <td>1</td>\n",
       "      <td>female</td>\n",
       "      <td>35.0</td>\n",
       "      <td>1</td>\n",
       "      <td>0</td>\n",
       "      <td>53.1000</td>\n",
       "      <td>S</td>\n",
       "    </tr>\n",
       "    <tr>\n",
       "      <th>4</th>\n",
       "      <td>0</td>\n",
       "      <td>3</td>\n",
       "      <td>male</td>\n",
       "      <td>35.0</td>\n",
       "      <td>0</td>\n",
       "      <td>0</td>\n",
       "      <td>8.0500</td>\n",
       "      <td>S</td>\n",
       "    </tr>\n",
       "  </tbody>\n",
       "</table>\n",
       "</div>"
      ],
      "text/plain": [
       "   Survived  Pclass     Sex   Age  SibSp  Parch     Fare Embarked\n",
       "0         0       3    male  22.0      1      0   7.2500        S\n",
       "1         1       1  female  38.0      1      0  71.2833        C\n",
       "2         1       3  female  26.0      0      0   7.9250        S\n",
       "3         1       1  female  35.0      1      0  53.1000        S\n",
       "4         0       3    male  35.0      0      0   8.0500        S"
      ]
     },
     "execution_count": 5,
     "metadata": {},
     "output_type": "execute_result"
    }
   ],
   "source": [
    "#copy_data()\n",
    "\n",
    "dropped_df = multi_drop()\n",
    "dropped_df.head()"
   ]
  },
  {
   "cell_type": "markdown",
   "metadata": {},
   "source": [
    "#### Fill Values\n"
   ]
  },
  {
   "cell_type": "code",
   "execution_count": 6,
   "metadata": {
    "ExecuteTime": {
     "end_time": "2019-07-24T15:22:31.017406Z",
     "start_time": "2019-07-24T15:22:31.008798Z"
    }
   },
   "outputs": [],
   "source": [
    "new_df = fillna()\n"
   ]
  },
  {
   "cell_type": "markdown",
   "metadata": {},
   "source": [
    "#### Transform String 2 Number\n"
   ]
  },
  {
   "cell_type": "code",
   "execution_count": 7,
   "metadata": {
    "ExecuteTime": {
     "end_time": "2019-07-24T15:22:32.617323Z",
     "start_time": "2019-07-24T15:22:32.609715Z"
    }
   },
   "outputs": [],
   "source": [
    "newest = feature_engineer(new_df)\n",
    "#newest"
   ]
  },
  {
   "cell_type": "markdown",
   "metadata": {},
   "source": [
    "#### Create new clumns Embarked\n"
   ]
  },
  {
   "cell_type": "code",
   "execution_count": 8,
   "metadata": {
    "ExecuteTime": {
     "end_time": "2019-07-24T15:22:45.017008Z",
     "start_time": "2019-07-24T15:22:45.009836Z"
    }
   },
   "outputs": [],
   "source": [
    "dummydata = pd.get_dummies(newest['Embarked'])\n",
    "    #multi_dropped = copy_data().drop(['PassengerId','Name','Ticket','Cabin'],axis=1)\n",
    "\n",
    "#dummydata"
   ]
  },
  {
   "cell_type": "code",
   "execution_count": 9,
   "metadata": {
    "ExecuteTime": {
     "end_time": "2019-07-24T15:22:45.846991Z",
     "start_time": "2019-07-24T15:22:45.809474Z"
    }
   },
   "outputs": [
    {
     "data": {
      "text/html": [
       "<div>\n",
       "<style scoped>\n",
       "    .dataframe tbody tr th:only-of-type {\n",
       "        vertical-align: middle;\n",
       "    }\n",
       "\n",
       "    .dataframe tbody tr th {\n",
       "        vertical-align: top;\n",
       "    }\n",
       "\n",
       "    .dataframe thead th {\n",
       "        text-align: right;\n",
       "    }\n",
       "</style>\n",
       "<table border=\"1\" class=\"dataframe\">\n",
       "  <thead>\n",
       "    <tr style=\"text-align: right;\">\n",
       "      <th></th>\n",
       "      <th>Survived</th>\n",
       "      <th>Pclass</th>\n",
       "      <th>Sex</th>\n",
       "      <th>Age</th>\n",
       "      <th>SibSp</th>\n",
       "      <th>Parch</th>\n",
       "      <th>Fare</th>\n",
       "      <th>C</th>\n",
       "      <th>Q</th>\n",
       "      <th>S</th>\n",
       "    </tr>\n",
       "  </thead>\n",
       "  <tbody>\n",
       "    <tr>\n",
       "      <th>0</th>\n",
       "      <td>0</td>\n",
       "      <td>3</td>\n",
       "      <td>1</td>\n",
       "      <td>22.0</td>\n",
       "      <td>1</td>\n",
       "      <td>0</td>\n",
       "      <td>7.2500</td>\n",
       "      <td>0</td>\n",
       "      <td>0</td>\n",
       "      <td>1</td>\n",
       "    </tr>\n",
       "    <tr>\n",
       "      <th>1</th>\n",
       "      <td>1</td>\n",
       "      <td>1</td>\n",
       "      <td>0</td>\n",
       "      <td>38.0</td>\n",
       "      <td>1</td>\n",
       "      <td>0</td>\n",
       "      <td>71.2833</td>\n",
       "      <td>1</td>\n",
       "      <td>0</td>\n",
       "      <td>0</td>\n",
       "    </tr>\n",
       "    <tr>\n",
       "      <th>2</th>\n",
       "      <td>1</td>\n",
       "      <td>3</td>\n",
       "      <td>0</td>\n",
       "      <td>26.0</td>\n",
       "      <td>0</td>\n",
       "      <td>0</td>\n",
       "      <td>7.9250</td>\n",
       "      <td>0</td>\n",
       "      <td>0</td>\n",
       "      <td>1</td>\n",
       "    </tr>\n",
       "    <tr>\n",
       "      <th>3</th>\n",
       "      <td>1</td>\n",
       "      <td>1</td>\n",
       "      <td>0</td>\n",
       "      <td>35.0</td>\n",
       "      <td>1</td>\n",
       "      <td>0</td>\n",
       "      <td>53.1000</td>\n",
       "      <td>0</td>\n",
       "      <td>0</td>\n",
       "      <td>1</td>\n",
       "    </tr>\n",
       "    <tr>\n",
       "      <th>4</th>\n",
       "      <td>0</td>\n",
       "      <td>3</td>\n",
       "      <td>1</td>\n",
       "      <td>35.0</td>\n",
       "      <td>0</td>\n",
       "      <td>0</td>\n",
       "      <td>8.0500</td>\n",
       "      <td>0</td>\n",
       "      <td>0</td>\n",
       "      <td>1</td>\n",
       "    </tr>\n",
       "  </tbody>\n",
       "</table>\n",
       "</div>"
      ],
      "text/plain": [
       "   Survived  Pclass  Sex   Age  SibSp  Parch     Fare  C  Q  S\n",
       "0         0       3    1  22.0      1      0   7.2500  0  0  1\n",
       "1         1       1    0  38.0      1      0  71.2833  1  0  0\n",
       "2         1       3    0  26.0      0      0   7.9250  0  0  1\n",
       "3         1       1    0  35.0      1      0  53.1000  0  0  1\n",
       "4         0       3    1  35.0      0      0   8.0500  0  0  1"
      ]
     },
     "execution_count": 9,
     "metadata": {},
     "output_type": "execute_result"
    }
   ],
   "source": [
    "final = pd.concat([newest,dummydata],axis=1).drop(['Embarked'],axis=1)\n",
    "final.head()\n"
   ]
  },
  {
   "cell_type": "markdown",
   "metadata": {},
   "source": [
    "### All in one func\n"
   ]
  },
  {
   "cell_type": "code",
   "execution_count": 48,
   "metadata": {
    "ExecuteTime": {
     "end_time": "2019-07-24T15:22:49.583392Z",
     "start_time": "2019-07-24T15:22:49.549962Z"
    }
   },
   "outputs": [
    {
     "data": {
      "text/plain": [
       "Index(['Survived', 'Pclass', 'Sex', 'Age', 'SibSp', 'Parch', 'Fare', 'C', 'Q',\n",
       "       'S'],\n",
       "      dtype='object')"
      ]
     },
     "execution_count": 48,
     "metadata": {},
     "output_type": "execute_result"
    }
   ],
   "source": [
    "def feature_engineer(dataframe):\n",
    "    d = {'female': 0,\n",
    "         'male': 1}\n",
    "\n",
    "    dataframe = dataframe.copy()\n",
    "    #fill female & male strings\n",
    "    dataframe['Sex'] = dataframe['Sex'].map(d)\n",
    "    #drop columns\n",
    "    dropped_cols = dataframe.drop(['PassengerId','Name','Ticket','Cabin'],axis=1)\n",
    "    #get dummy data from column 'Embarked'\n",
    "    dummydata = pd.get_dummies(dropped_cols['Embarked'])\n",
    "    concat = pd.concat([dropped_cols,dummydata],axis=1).drop(['Embarked'],axis=1)\n",
    "    \n",
    "    get_mean = concat.groupby(['Survived'])['Age'].mean()\n",
    "\n",
    "    fill_age = concat['Age'].fillna(value=get_mean[0])\n",
    "    final['Age'] = fill_age\n",
    "\n",
    "    return final\n",
    "\n",
    "final_df = feature_engineer(get_dataframe())\n",
    "final_df.columns\n",
    "#feature_engineer(get_dataframe()).isna().sum()\n"
   ]
  },
  {
   "cell_type": "markdown",
   "metadata": {},
   "source": [
    "   ## Splitt Data"
   ]
  },
  {
   "cell_type": "code",
   "execution_count": 11,
   "metadata": {
    "ExecuteTime": {
     "end_time": "2019-07-24T15:22:55.036090Z",
     "start_time": "2019-07-24T15:22:55.024960Z"
    }
   },
   "outputs": [
    {
     "data": {
      "text/plain": [
       "True"
      ]
     },
     "execution_count": 11,
     "metadata": {},
     "output_type": "execute_result"
    }
   ],
   "source": [
    "X = final_df[['Survived', 'Pclass', 'Sex', 'Age', 'SibSp', 'Parch','Fare','C', 'Q', 'S']]\n",
    "#print(X)\n",
    "y = final_df['Survived']\n",
    "#print(y)\n",
    "len(X) == len(y)"
   ]
  },
  {
   "cell_type": "markdown",
   "metadata": {},
   "source": [
    "**2. Split data into X and y**"
   ]
  },
  {
   "cell_type": "code",
   "execution_count": 47,
   "metadata": {
    "ExecuteTime": {
     "end_time": "2019-07-24T15:22:59.090114Z",
     "start_time": "2019-07-24T15:22:59.081362Z"
    }
   },
   "outputs": [],
   "source": [
    "from sklearn.model_selection import train_test_split\n",
    "X_train, X_test, y_train, y_test=train_test_split(X,y)"
   ]
  },
  {
   "cell_type": "markdown",
   "metadata": {},
   "source": [
    "**3. Split X data into training and testing sets**"
   ]
  },
  {
   "cell_type": "code",
   "execution_count": 13,
   "metadata": {
    "ExecuteTime": {
     "end_time": "2019-07-24T15:23:02.383738Z",
     "start_time": "2019-07-24T15:23:02.376574Z"
    }
   },
   "outputs": [
    {
     "data": {
      "text/plain": [
       "((668, 10), (223, 10), (668,), (223,))"
      ]
     },
     "execution_count": 13,
     "metadata": {},
     "output_type": "execute_result"
    }
   ],
   "source": [
    "#Train Data  // Test Data\n",
    "X_train.shape, X_test.shape, y_train.shape, y_test.shape"
   ]
  },
  {
   "cell_type": "code",
   "execution_count": 14,
   "metadata": {},
   "outputs": [],
   "source": [
    "#X_train_new "
   ]
  },
  {
   "cell_type": "markdown",
   "metadata": {},
   "source": [
    "**5. \"Build\" a Random Forest model**"
   ]
  },
  {
   "cell_type": "code",
   "execution_count": 46,
   "metadata": {
    "ExecuteTime": {
     "end_time": "2019-07-24T15:23:13.854316Z",
     "start_time": "2019-07-24T15:23:13.810043Z"
    }
   },
   "outputs": [
    {
     "data": {
      "text/plain": [
       "1.0"
      ]
     },
     "execution_count": 46,
     "metadata": {},
     "output_type": "execute_result"
    }
   ],
   "source": [
    "from sklearn.ensemble import RandomForestClassifier\n",
    "# n_estimators = number of trees\n",
    "# max_deph number of question\n",
    "m = RandomForestClassifier(n_estimators=3, max_depth=10, criterion='gini')\n",
    "m.fit(X_train, y_train)\n",
    "m.score(X_train, y_train)"
   ]
  },
  {
   "cell_type": "code",
   "execution_count": null,
   "metadata": {},
   "outputs": [],
   "source": []
  },
  {
   "cell_type": "markdown",
   "metadata": {},
   "source": [
    "#### Create np array\n"
   ]
  },
  {
   "cell_type": "code",
   "execution_count": 18,
   "metadata": {
    "ExecuteTime": {
     "end_time": "2019-07-24T15:23:25.471817Z",
     "start_time": "2019-07-24T15:23:25.458559Z"
    }
   },
   "outputs": [
    {
     "data": {
      "text/plain": [
       "0.7867564534231201"
      ]
     },
     "execution_count": 18,
     "metadata": {},
     "output_type": "execute_result"
    }
   ],
   "source": [
    "X = np.array([1 if x == 'male' else 0 for x in fillna()['Sex']]).reshape(-1,1)\n",
    "y = fillna()['Survived']\n",
    "\n",
    "#print(type(X))\n",
    "m = DecisionTreeClassifier()\n",
    "m.fit(X,y)\n",
    "m.score(X,y)"
   ]
  },
  {
   "cell_type": "code",
   "execution_count": 19,
   "metadata": {
    "ExecuteTime": {
     "end_time": "2019-07-24T15:23:27.489283Z",
     "start_time": "2019-07-24T15:23:27.209994Z"
    }
   },
   "outputs": [
    {
     "name": "stdout",
     "output_type": "stream",
     "text": [
      "Survived\n",
      "0    30.626179\n",
      "1    28.343690\n",
      "Name: Age, dtype: float64\n",
      "<class 'numpy.ndarray'>\n"
     ]
    },
    {
     "data": {
      "text/plain": [
       "<matplotlib.axes._subplots.AxesSubplot at 0x7fcf33736860>"
      ]
     },
     "execution_count": 19,
     "metadata": {},
     "output_type": "execute_result"
    },
    {
     "data": {
      "image/png": "[encoded data removed]",
      "text/plain": [
       "<Figure size 432x288 with 1 Axes>"
      ]
     },
     "metadata": {
      "needs_background": "light"
     },
     "output_type": "display_data"
    }
   ],
   "source": [
    "#copy_data().groupby(['Age']).Age.mean(]\n",
    "mean_surv = copy_data().groupby(['Survived'])['Age'].mean()\n",
    "mean_died = copy_data().groupby(['Survived'])['Age'].mean()[1]\n",
    "mean_mean = (mean_surv + mean_died)#.mean()\n",
    "print(mean_surv)\n",
    "\n",
    "#copy_data()['Age'].fillna(method='bfill')\n",
    "#copy_data()['Age'].fillna(value=mean_surv)\n",
    "\n",
    "\n",
    "filled_data = copy_data()['Age'].fillna(method='bfill')\n",
    "\n",
    "#list comp syntax - [x for x in list]                                  #(-1,1) 2-dimension\n",
    "#Convert 2 np array\n",
    "#X = np.array(get_dataframe()['Sex']).reshape(-1,1,1)\n",
    "\n",
    "X = np.array([1 if x == 'male' else 0 for x in get_dataframe()['Sex']]).reshape(-1,1)\n",
    "#print(X)\n",
    "y = get_dataframe()['Survived']\n",
    "\n",
    "print(type(X))\n",
    "\n",
    "m = DecisionTreeClassifier()\n",
    "m.fit(X,y)\n",
    "m.score(X,y)\n",
    "\n",
    "sb.boxplot(x='Pclass', y='Age', data=fillna(), palette='hls')\n",
    "#sb.countplot(x='Survived',data=fillna(), palette='hls')"
   ]
  },
  {
   "cell_type": "code",
   "execution_count": 31,
   "metadata": {},
   "outputs": [
    {
     "data": {
      "text/plain": [
       "Survived\n",
       "0    30.626179\n",
       "1    28.690735\n",
       "Name: Age, dtype: float64"
      ]
     },
     "execution_count": 31,
     "metadata": {},
     "output_type": "execute_result"
    }
   ],
   "source": [
    "final_df.groupby(['Survived'])['Age'].mean()"
   ]
  },
  {
   "cell_type": "code",
   "execution_count": 41,
   "metadata": {
    "ExecuteTime": {
     "end_time": "2019-07-24T15:24:45.515667Z",
     "start_time": "2019-07-24T15:24:45.485505Z"
    },
    "scrolled": false
   },
   "outputs": [
    {
     "name": "stdout",
     "output_type": "stream",
     "text": [
      "38.233440860215055 29.87763005780347 25.14061971830986\n"
     ]
    }
   ],
   "source": [
    "final_df.groupby(['Survived'])['Age'].mean()\n",
    "mean_classes = get_dataframe().groupby(['Pclass'])['Age'].mean()\n",
    "\n",
    "mean_c1 = mean_classes[1]\n",
    "mean_c2 = mean_classes[2]\n",
    "mean_c3 = mean_classes[3]\n",
    "\n",
    "\n",
    "print(mean_c1, mean_c2, mean_c3)\n",
    "#df['Age']\n",
    "#pd.get_dummies(fillna()['Embarked']).head()"
   ]
  },
  {
   "cell_type": "code",
   "execution_count": 42,
   "metadata": {},
   "outputs": [
    {
     "data": {
      "text/plain": [
       "Pclass\n",
       "1    38.233441\n",
       "2    29.877630\n",
       "3    25.140620\n",
       "Name: Age, dtype: float64"
      ]
     },
     "execution_count": 42,
     "metadata": {},
     "output_type": "execute_result"
    }
   ],
   "source": [
    "get_dataframe().groupby(['Pclass'])['Age'].mean()"
   ]
  },
  {
   "cell_type": "code",
   "execution_count": 43,
   "metadata": {},
   "outputs": [],
   "source": [
    "mean_classes = get_dataframe().groupby(['Pclass'])['Age'].mean()\n",
    "mean_c1 = mean_classes[1]\n",
    "mean_c2 = mean_classes[2]\n",
    "mean_c3 = mean_classes[3]\n",
    "\n"
   ]
  },
  {
   "cell_type": "code",
   "execution_count": 44,
   "metadata": {
    "ExecuteTime": {
     "end_time": "2019-07-24T15:23:46.930195Z",
     "start_time": "2019-07-24T15:23:46.902015Z"
    }
   },
   "outputs": [
    {
     "data": {
      "text/html": [
       "<div>\n",
       "<style scoped>\n",
       "    .dataframe tbody tr th:only-of-type {\n",
       "        vertical-align: middle;\n",
       "    }\n",
       "\n",
       "    .dataframe tbody tr th {\n",
       "        vertical-align: top;\n",
       "    }\n",
       "\n",
       "    .dataframe thead th {\n",
       "        text-align: right;\n",
       "    }\n",
       "</style>\n",
       "<table border=\"1\" class=\"dataframe\">\n",
       "  <thead>\n",
       "    <tr style=\"text-align: right;\">\n",
       "      <th></th>\n",
       "      <th>Survived</th>\n",
       "      <th>Pclass</th>\n",
       "      <th>Sex</th>\n",
       "      <th>Age</th>\n",
       "      <th>SibSp</th>\n",
       "      <th>Parch</th>\n",
       "      <th>Fare</th>\n",
       "      <th>Embarked</th>\n",
       "    </tr>\n",
       "  </thead>\n",
       "  <tbody>\n",
       "    <tr>\n",
       "      <th>0</th>\n",
       "      <td>0</td>\n",
       "      <td>3</td>\n",
       "      <td>male</td>\n",
       "      <td>22.0</td>\n",
       "      <td>1</td>\n",
       "      <td>0</td>\n",
       "      <td>7.2500</td>\n",
       "      <td>S</td>\n",
       "    </tr>\n",
       "    <tr>\n",
       "      <th>1</th>\n",
       "      <td>1</td>\n",
       "      <td>1</td>\n",
       "      <td>female</td>\n",
       "      <td>38.0</td>\n",
       "      <td>1</td>\n",
       "      <td>0</td>\n",
       "      <td>71.2833</td>\n",
       "      <td>C</td>\n",
       "    </tr>\n",
       "    <tr>\n",
       "      <th>2</th>\n",
       "      <td>1</td>\n",
       "      <td>3</td>\n",
       "      <td>female</td>\n",
       "      <td>26.0</td>\n",
       "      <td>0</td>\n",
       "      <td>0</td>\n",
       "      <td>7.9250</td>\n",
       "      <td>S</td>\n",
       "    </tr>\n",
       "    <tr>\n",
       "      <th>3</th>\n",
       "      <td>1</td>\n",
       "      <td>1</td>\n",
       "      <td>female</td>\n",
       "      <td>35.0</td>\n",
       "      <td>1</td>\n",
       "      <td>0</td>\n",
       "      <td>53.1000</td>\n",
       "      <td>S</td>\n",
       "    </tr>\n",
       "    <tr>\n",
       "      <th>4</th>\n",
       "      <td>0</td>\n",
       "      <td>3</td>\n",
       "      <td>male</td>\n",
       "      <td>35.0</td>\n",
       "      <td>0</td>\n",
       "      <td>0</td>\n",
       "      <td>8.0500</td>\n",
       "      <td>S</td>\n",
       "    </tr>\n",
       "  </tbody>\n",
       "</table>\n",
       "</div>"
      ],
      "text/plain": [
       "   Survived  Pclass     Sex   Age  SibSp  Parch     Fare Embarked\n",
       "0         0       3    male  22.0      1      0   7.2500        S\n",
       "1         1       1  female  38.0      1      0  71.2833        C\n",
       "2         1       3  female  26.0      0      0   7.9250        S\n",
       "3         1       1  female  35.0      1      0  53.1000        S\n",
       "4         0       3    male  35.0      0      0   8.0500        S"
      ]
     },
     "execution_count": 44,
     "metadata": {},
     "output_type": "execute_result"
    }
   ],
   "source": [
    "titanic_data = copy_data().drop(['PassengerId','Name','Ticket','Cabin'], 1)\n",
    "titanic_data.head()"
   ]
  },
  {
   "cell_type": "code",
   "execution_count": 45,
   "metadata": {},
   "outputs": [
    {
     "data": {
      "text/plain": [
       "<matplotlib.axes._subplots.AxesSubplot at 0x7fcf2a44bf98>"
      ]
     },
     "execution_count": 45,
     "metadata": {},
     "output_type": "execute_result"
    },
    {
     "data": {
      "image/png": "[encoded data removed]",
      "text/plain": [
       "<Figure size 720x576 with 1 Axes>"
      ]
     },
     "metadata": {},
     "output_type": "display_data"
    }
   ],
   "source": [
    "sb.countplot(x='Survived',data=titanic_data, palette='hls')"
   ]
  },
  {
   "cell_type": "code",
   "execution_count": 23,
   "metadata": {
    "ExecuteTime": {
     "end_time": "2019-07-24T15:23:55.758860Z",
     "start_time": "2019-07-24T15:23:55.459168Z"
    }
   },
   "outputs": [
    {
     "data": {
      "image/png": "[encoded data removed]",
      "text/plain": [
       "<Figure size 720x576 with 1 Axes>"
      ]
     },
     "metadata": {},
     "output_type": "display_data"
    }
   ],
   "source": [
    "%matplotlib inline\n",
    "rcParams['figure.figsize'] = 10, 8\n",
    "sb.set_style('whitegrid')\n",
    "\n",
    "\n",
    "sb.boxplot(x='Pclass', y='Age', data=titanic_data, palette='hls')\n",
    "None"
   ]
  },
  {
   "cell_type": "code",
   "execution_count": 24,
   "metadata": {
    "ExecuteTime": {
     "end_time": "2019-07-24T15:23:59.036779Z",
     "start_time": "2019-07-24T15:23:59.026827Z"
    }
   },
   "outputs": [
    {
     "data": {
      "text/plain": [
       "Survived      0\n",
       "Pclass        0\n",
       "Sex           0\n",
       "Age         177\n",
       "SibSp         0\n",
       "Parch         0\n",
       "Fare          0\n",
       "Embarked      2\n",
       "dtype: int64"
      ]
     },
     "execution_count": 24,
     "metadata": {},
     "output_type": "execute_result"
    }
   ],
   "source": [
    "titanic_data.isnull().sum()"
   ]
  },
  {
   "cell_type": "code",
   "execution_count": null,
   "metadata": {},
   "outputs": [],
   "source": []
  }
 ],
 "metadata": {
  "hide_input": false,
  "kernelspec": {
   "display_name": "Python 3",
   "language": "python",
   "name": "python3"
  },
  "language_info": {
   "codemirror_mode": {
    "name": "ipython",
    "version": 3
   },
   "file_extension": ".py",
   "mimetype": "text/x-python",
   "name": "python",
   "nbconvert_exporter": "python",
   "pygments_lexer": "ipython3",
   "version": "3.7.3"
  },
  "nbTranslate": {
   "displayLangs": [
    "*"
   ],
   "hotkey": "alt-t",
   "langInMainMenu": true,
   "sourceLang": "en",
   "targetLang": "fr",
   "useGoogleTranslate": true
  },
  "toc": {
   "base_numbering": 1,
   "nav_menu": {},
   "number_sections": true,
   "sideBar": true,
   "skip_h1_title": false,
   "title_cell": "Table of Contents",
   "title_sidebar": "Contents",
   "toc_cell": false,
   "toc_position": {},
   "toc_section_display": true,
   "toc_window_display": false
  },
  "varInspector": {
   "cols": {
    "lenName": 16,
    "lenType": 16,
    "lenVar": 40
   },
   "kernels_config": {
    "python": {
     "delete_cmd_postfix": "",
     "delete_cmd_prefix": "del ",
     "library": "var_list.py",
     "varRefreshCmd": "print(var_dic_list())"
    },
    "r": {
     "delete_cmd_postfix": ") ",
     "delete_cmd_prefix": "rm(",
     "library": "var_list.r",
     "varRefreshCmd": "cat(var_dic_list()) "
    }
   },
   "types_to_exclude": [
    "module",
    "function",
    "builtin_function_or_method",
    "instance",
    "_Feature"
   ],
   "window_display": false
  }
 },
 "nbformat": 4,
 "nbformat_minor": 2
}
