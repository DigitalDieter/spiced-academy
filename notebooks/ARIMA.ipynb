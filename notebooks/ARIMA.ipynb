{
 "cells": [
  {
   "cell_type": "code",
   "execution_count": 74,
   "metadata": {
    "ExecuteTime": {
     "end_time": "2019-07-24T14:24:23.086442Z",
     "start_time": "2019-07-24T14:24:22.937666Z"
    }
   },
   "outputs": [
    {
     "name": "stdout",
     "output_type": "stream",
     "text": [
      "/Users/digitaldieter/coding/projects/jupyter/exercices\r\n"
     ]
    }
   ],
   "source": [
    "!pwd"
   ]
  },
  {
   "cell_type": "code",
   "execution_count": 31,
   "metadata": {
    "ExecuteTime": {
     "end_time": "2019-07-24T14:18:25.945087Z",
     "start_time": "2019-07-24T14:18:25.940746Z"
    }
   },
   "outputs": [],
   "source": [
    "#!pip install statsmodels"
   ]
  },
  {
   "cell_type": "markdown",
   "metadata": {},
   "source": [
    "### Get a Time Series to analyze"
   ]
  },
  {
   "cell_type": "code",
   "execution_count": 32,
   "metadata": {
    "ExecuteTime": {
     "end_time": "2019-07-24T14:18:27.571845Z",
     "start_time": "2019-07-24T14:18:27.558263Z"
    }
   },
   "outputs": [],
   "source": [
    "import seaborn as sns\n",
    "from matplotlib import pyplot as plt\n",
    "import random\n",
    "\n",
    "%matplotlib inline\n",
    "\n",
    "df = sns.load_dataset('flights')"
   ]
  },
  {
   "cell_type": "code",
   "execution_count": 33,
   "metadata": {
    "ExecuteTime": {
     "end_time": "2019-07-24T14:18:28.048151Z",
     "start_time": "2019-07-24T14:18:27.774730Z"
    }
   },
   "outputs": [
    {
     "data": {
      "text/plain": [
       "<matplotlib.axes._subplots.AxesSubplot at 0x1a174d4080>"
      ]
     },
     "execution_count": 33,
     "metadata": {},
     "output_type": "execute_result"
    },
    {
     "data": {
      "image/png": "[encoded data removed]",
      "text/plain": [
       "<Figure size 432x288 with 1 Axes>"
      ]
     },
     "metadata": {
      "needs_background": "light"
     },
     "output_type": "display_data"
    }
   ],
   "source": [
    "df['passengers'].plot()"
   ]
  },
  {
   "cell_type": "markdown",
   "metadata": {},
   "source": [
    "<h2 data-toc-modified-id=\"ARIMA-modelrequeisre-the-data-to-be-1\" id=\"ARIMA-modelrequeisre-the-data-to-be\"><a class=\"toc-mod-link\" id=\"ARIMA-modelrequeisre-the-data-to-be-1\"></a><span class=\"toc-item-num\">1&nbsp;&nbsp;</span>ARIMA model requeisre the data to be</h2>\n",
    "\n",
    "<p>&nbsp;</p>\n",
    "\n",
    "<p>1. Non seasonal</p>\n",
    "\n",
    "<p>2. Without a trend</p>\n"
   ]
  },
  {
   "cell_type": "markdown",
   "metadata": {},
   "source": [
    "### Autocorrelation\n",
    "correlation for each time shift -> ACF plot"
   ]
  },
  {
   "cell_type": "code",
   "execution_count": 34,
   "metadata": {
    "ExecuteTime": {
     "end_time": "2019-07-24T14:18:28.346561Z",
     "start_time": "2019-07-24T14:18:28.339756Z"
    }
   },
   "outputs": [],
   "source": [
    "y = df['passengers']"
   ]
  },
  {
   "cell_type": "code",
   "execution_count": 35,
   "metadata": {
    "ExecuteTime": {
     "end_time": "2019-07-24T14:18:28.550371Z",
     "start_time": "2019-07-24T14:18:28.535191Z"
    }
   },
   "outputs": [],
   "source": [
    "df['p1'] = df['passengers'].shift(1)\n",
    "df['p2'] = df['passengers'].shift(2)\n",
    "df['p3'] = df['passengers'].shift(3)\n",
    "df['p4'] = df['passengers'].shift(4)\n",
    "df['p5'] = df['passengers'].shift(5)"
   ]
  },
  {
   "cell_type": "code",
   "execution_count": 61,
   "metadata": {
    "ExecuteTime": {
     "end_time": "2019-07-24T14:19:14.271885Z",
     "start_time": "2019-07-24T14:19:14.257172Z"
    }
   },
   "outputs": [
    {
     "data": {
      "text/html": [
       "<div>\n",
       "<style scoped>\n",
       "    .dataframe tbody tr th:only-of-type {\n",
       "        vertical-align: middle;\n",
       "    }\n",
       "\n",
       "    .dataframe tbody tr th {\n",
       "        vertical-align: top;\n",
       "    }\n",
       "\n",
       "    .dataframe thead th {\n",
       "        text-align: right;\n",
       "    }\n",
       "</style>\n",
       "<table border=\"1\" class=\"dataframe\">\n",
       "  <thead>\n",
       "    <tr style=\"text-align: right;\">\n",
       "      <th></th>\n",
       "      <th>year</th>\n",
       "      <th>month</th>\n",
       "      <th>passengers</th>\n",
       "      <th>p1</th>\n",
       "      <th>p2</th>\n",
       "      <th>p3</th>\n",
       "      <th>p4</th>\n",
       "      <th>p5</th>\n",
       "    </tr>\n",
       "  </thead>\n",
       "  <tbody>\n",
       "    <tr>\n",
       "      <th>0</th>\n",
       "      <td>1949</td>\n",
       "      <td>January</td>\n",
       "      <td>112</td>\n",
       "      <td>NaN</td>\n",
       "      <td>NaN</td>\n",
       "      <td>NaN</td>\n",
       "      <td>NaN</td>\n",
       "      <td>NaN</td>\n",
       "    </tr>\n",
       "    <tr>\n",
       "      <th>1</th>\n",
       "      <td>1949</td>\n",
       "      <td>February</td>\n",
       "      <td>118</td>\n",
       "      <td>112.0</td>\n",
       "      <td>NaN</td>\n",
       "      <td>NaN</td>\n",
       "      <td>NaN</td>\n",
       "      <td>NaN</td>\n",
       "    </tr>\n",
       "    <tr>\n",
       "      <th>2</th>\n",
       "      <td>1949</td>\n",
       "      <td>March</td>\n",
       "      <td>132</td>\n",
       "      <td>118.0</td>\n",
       "      <td>112.0</td>\n",
       "      <td>NaN</td>\n",
       "      <td>NaN</td>\n",
       "      <td>NaN</td>\n",
       "    </tr>\n",
       "    <tr>\n",
       "      <th>3</th>\n",
       "      <td>1949</td>\n",
       "      <td>April</td>\n",
       "      <td>129</td>\n",
       "      <td>132.0</td>\n",
       "      <td>118.0</td>\n",
       "      <td>112.0</td>\n",
       "      <td>NaN</td>\n",
       "      <td>NaN</td>\n",
       "    </tr>\n",
       "    <tr>\n",
       "      <th>4</th>\n",
       "      <td>1949</td>\n",
       "      <td>May</td>\n",
       "      <td>121</td>\n",
       "      <td>129.0</td>\n",
       "      <td>132.0</td>\n",
       "      <td>118.0</td>\n",
       "      <td>112.0</td>\n",
       "      <td>NaN</td>\n",
       "    </tr>\n",
       "    <tr>\n",
       "      <th>5</th>\n",
       "      <td>1949</td>\n",
       "      <td>June</td>\n",
       "      <td>135</td>\n",
       "      <td>121.0</td>\n",
       "      <td>129.0</td>\n",
       "      <td>132.0</td>\n",
       "      <td>118.0</td>\n",
       "      <td>112.0</td>\n",
       "    </tr>\n",
       "    <tr>\n",
       "      <th>6</th>\n",
       "      <td>1949</td>\n",
       "      <td>July</td>\n",
       "      <td>148</td>\n",
       "      <td>135.0</td>\n",
       "      <td>121.0</td>\n",
       "      <td>129.0</td>\n",
       "      <td>132.0</td>\n",
       "      <td>118.0</td>\n",
       "    </tr>\n",
       "    <tr>\n",
       "      <th>7</th>\n",
       "      <td>1949</td>\n",
       "      <td>August</td>\n",
       "      <td>148</td>\n",
       "      <td>148.0</td>\n",
       "      <td>135.0</td>\n",
       "      <td>121.0</td>\n",
       "      <td>129.0</td>\n",
       "      <td>132.0</td>\n",
       "    </tr>\n",
       "    <tr>\n",
       "      <th>8</th>\n",
       "      <td>1949</td>\n",
       "      <td>September</td>\n",
       "      <td>136</td>\n",
       "      <td>148.0</td>\n",
       "      <td>148.0</td>\n",
       "      <td>135.0</td>\n",
       "      <td>121.0</td>\n",
       "      <td>129.0</td>\n",
       "    </tr>\n",
       "    <tr>\n",
       "      <th>9</th>\n",
       "      <td>1949</td>\n",
       "      <td>October</td>\n",
       "      <td>119</td>\n",
       "      <td>136.0</td>\n",
       "      <td>148.0</td>\n",
       "      <td>148.0</td>\n",
       "      <td>135.0</td>\n",
       "      <td>121.0</td>\n",
       "    </tr>\n",
       "  </tbody>\n",
       "</table>\n",
       "</div>"
      ],
      "text/plain": [
       "   year      month  passengers     p1     p2     p3     p4     p5\n",
       "0  1949    January         112    NaN    NaN    NaN    NaN    NaN\n",
       "1  1949   February         118  112.0    NaN    NaN    NaN    NaN\n",
       "2  1949      March         132  118.0  112.0    NaN    NaN    NaN\n",
       "3  1949      April         129  132.0  118.0  112.0    NaN    NaN\n",
       "4  1949        May         121  129.0  132.0  118.0  112.0    NaN\n",
       "5  1949       June         135  121.0  129.0  132.0  118.0  112.0\n",
       "6  1949       July         148  135.0  121.0  129.0  132.0  118.0\n",
       "7  1949     August         148  148.0  135.0  121.0  129.0  132.0\n",
       "8  1949  September         136  148.0  148.0  135.0  121.0  129.0\n",
       "9  1949    October         119  136.0  148.0  148.0  135.0  121.0"
      ]
     },
     "execution_count": 61,
     "metadata": {},
     "output_type": "execute_result"
    }
   ],
   "source": [
    "df.head(10)"
   ]
  },
  {
   "cell_type": "code",
   "execution_count": 37,
   "metadata": {
    "ExecuteTime": {
     "end_time": "2019-07-24T14:18:28.963626Z",
     "start_time": "2019-07-24T14:18:28.957380Z"
    }
   },
   "outputs": [],
   "source": [
    "# correlate lags"
   ]
  },
  {
   "cell_type": "code",
   "execution_count": 38,
   "metadata": {
    "ExecuteTime": {
     "end_time": "2019-07-24T14:18:29.084116Z",
     "start_time": "2019-07-24T14:18:29.064692Z"
    }
   },
   "outputs": [
    {
     "data": {
      "text/html": [
       "<div>\n",
       "<style scoped>\n",
       "    .dataframe tbody tr th:only-of-type {\n",
       "        vertical-align: middle;\n",
       "    }\n",
       "\n",
       "    .dataframe tbody tr th {\n",
       "        vertical-align: top;\n",
       "    }\n",
       "\n",
       "    .dataframe thead th {\n",
       "        text-align: right;\n",
       "    }\n",
       "</style>\n",
       "<table border=\"1\" class=\"dataframe\">\n",
       "  <thead>\n",
       "    <tr style=\"text-align: right;\">\n",
       "      <th></th>\n",
       "      <th>passengers</th>\n",
       "      <th>p1</th>\n",
       "      <th>p2</th>\n",
       "      <th>p3</th>\n",
       "      <th>p4</th>\n",
       "      <th>p5</th>\n",
       "    </tr>\n",
       "  </thead>\n",
       "  <tbody>\n",
       "    <tr>\n",
       "      <th>passengers</th>\n",
       "      <td>1.000000</td>\n",
       "      <td>0.960195</td>\n",
       "      <td>0.895675</td>\n",
       "      <td>0.837395</td>\n",
       "      <td>0.797735</td>\n",
       "      <td>0.785943</td>\n",
       "    </tr>\n",
       "    <tr>\n",
       "      <th>p1</th>\n",
       "      <td>0.960195</td>\n",
       "      <td>1.000000</td>\n",
       "      <td>0.960249</td>\n",
       "      <td>0.894473</td>\n",
       "      <td>0.836002</td>\n",
       "      <td>0.799965</td>\n",
       "    </tr>\n",
       "    <tr>\n",
       "      <th>p2</th>\n",
       "      <td>0.895675</td>\n",
       "      <td>0.960249</td>\n",
       "      <td>1.000000</td>\n",
       "      <td>0.961133</td>\n",
       "      <td>0.896597</td>\n",
       "      <td>0.844427</td>\n",
       "    </tr>\n",
       "    <tr>\n",
       "      <th>p3</th>\n",
       "      <td>0.837395</td>\n",
       "      <td>0.894473</td>\n",
       "      <td>0.961133</td>\n",
       "      <td>1.000000</td>\n",
       "      <td>0.960920</td>\n",
       "      <td>0.899075</td>\n",
       "    </tr>\n",
       "    <tr>\n",
       "      <th>p4</th>\n",
       "      <td>0.797735</td>\n",
       "      <td>0.836002</td>\n",
       "      <td>0.896597</td>\n",
       "      <td>0.960920</td>\n",
       "      <td>1.000000</td>\n",
       "      <td>0.962171</td>\n",
       "    </tr>\n",
       "    <tr>\n",
       "      <th>p5</th>\n",
       "      <td>0.785943</td>\n",
       "      <td>0.799965</td>\n",
       "      <td>0.844427</td>\n",
       "      <td>0.899075</td>\n",
       "      <td>0.962171</td>\n",
       "      <td>1.000000</td>\n",
       "    </tr>\n",
       "  </tbody>\n",
       "</table>\n",
       "</div>"
      ],
      "text/plain": [
       "            passengers        p1        p2        p3        p4        p5\n",
       "passengers    1.000000  0.960195  0.895675  0.837395  0.797735  0.785943\n",
       "p1            0.960195  1.000000  0.960249  0.894473  0.836002  0.799965\n",
       "p2            0.895675  0.960249  1.000000  0.961133  0.896597  0.844427\n",
       "p3            0.837395  0.894473  0.961133  1.000000  0.960920  0.899075\n",
       "p4            0.797735  0.836002  0.896597  0.960920  1.000000  0.962171\n",
       "p5            0.785943  0.799965  0.844427  0.899075  0.962171  1.000000"
      ]
     },
     "execution_count": 38,
     "metadata": {},
     "output_type": "execute_result"
    }
   ],
   "source": [
    "# means seasonality / trends\n",
    "df[['passengers', 'p1','p2', 'p3', 'p4', 'p5']].corr()"
   ]
  },
  {
   "cell_type": "code",
   "execution_count": 62,
   "metadata": {
    "ExecuteTime": {
     "end_time": "2019-07-24T14:19:25.167124Z",
     "start_time": "2019-07-24T14:19:24.823264Z"
    }
   },
   "outputs": [
    {
     "data": {
      "image/png": "[encoded data removed]",
      "text/plain": [
       "<Figure size 432x288 with 1 Axes>"
      ]
     },
     "metadata": {
      "needs_background": "light"
     },
     "output_type": "display_data"
    }
   ],
   "source": [
    "df.plot()\n",
    "None"
   ]
  },
  {
   "cell_type": "markdown",
   "metadata": {},
   "source": [
    "<h1>Statsmodel has a convenient function&nbsp;hooray!</h1>\n"
   ]
  },
  {
   "cell_type": "code",
   "execution_count": 63,
   "metadata": {
    "ExecuteTime": {
     "end_time": "2019-07-24T14:19:38.716007Z",
     "start_time": "2019-07-24T14:19:38.351562Z"
    }
   },
   "outputs": [
    {
     "data": {
      "image/png": "[encoded data removed]",
      "text/plain": [
       "<Figure size 432x288 with 1 Axes>"
      ]
     },
     "metadata": {
      "needs_background": "light"
     },
     "output_type": "display_data"
    }
   ],
   "source": [
    "from statsmodels.tsa.stattools import acf\n",
    "\n",
    "autocorr = acf(df['passengers'])\n",
    "plt.bar(range(len(autocorr)),autocorr)\n",
    "None"
   ]
  },
  {
   "cell_type": "markdown",
   "metadata": {},
   "source": [
    "if the ACF plot drops quickly to near-zero, you have neither a trend nor seasonality"
   ]
  },
  {
   "cell_type": "code",
   "execution_count": 41,
   "metadata": {
    "ExecuteTime": {
     "end_time": "2019-07-24T14:18:30.825054Z",
     "start_time": "2019-07-24T14:18:30.809771Z"
    }
   },
   "outputs": [],
   "source": [
    "from matplotlib import pyplot as plt\n",
    "import random\n",
    "\n",
    "%matplotlib inline"
   ]
  },
  {
   "cell_type": "code",
   "execution_count": 42,
   "metadata": {
    "ExecuteTime": {
     "end_time": "2019-07-24T14:18:31.142499Z",
     "start_time": "2019-07-24T14:18:30.874262Z"
    }
   },
   "outputs": [
    {
     "data": {
      "image/png": "[encoded data removed]",
      "text/plain": [
       "<Figure size 432x288 with 1 Axes>"
      ]
     },
     "metadata": {
      "needs_background": "light"
     },
     "output_type": "display_data"
    }
   ],
   "source": [
    "from statsmodels.graphics.tsaplots import plot_acf\n",
    "plot_acf(df['passengers'])\n",
    "#plot_acf(df['passengers'],lags=20)\n",
    "#plt.bar(range(len(autocorr)),autocorr)\n",
    "None"
   ]
  },
  {
   "cell_type": "code",
   "execution_count": 43,
   "metadata": {
    "ExecuteTime": {
     "end_time": "2019-07-24T14:18:31.486543Z",
     "start_time": "2019-07-24T14:18:31.182977Z"
    }
   },
   "outputs": [
    {
     "data": {
      "image/png": "[encoded data removed]",
      "text/plain": [
       "<Figure size 432x288 with 1 Axes>"
      ]
     },
     "metadata": {
      "needs_background": "light"
     },
     "output_type": "display_data"
    }
   ],
   "source": [
    "plot_acf(df['passengers'],lags=20)\n",
    "None"
   ]
  },
  {
   "cell_type": "markdown",
   "metadata": {},
   "source": [
    "<h1 data-toc-modified-id=\"Counterexample:-random-data-1\" id=\"Counterexample:-random-data\"><a class=\"toc-mod-link\" id=\"Counterexample:-random-data-1\"></a><span class=\"toc-item-num\">1&nbsp;&nbsp;</span>Counterexample: random data</h1>\n",
    "\n",
    "<h2>No Autocorr for random data</h2>\n"
   ]
  },
  {
   "cell_type": "code",
   "execution_count": 73,
   "metadata": {
    "ExecuteTime": {
     "end_time": "2019-07-24T14:22:58.612188Z",
     "start_time": "2019-07-24T14:22:58.604874Z"
    }
   },
   "outputs": [
    {
     "ename": "SyntaxError",
     "evalue": "invalid syntax (<ipython-input-73-415619909fe1>, line 1)",
     "output_type": "error",
     "traceback": [
      "\u001b[0;36m  File \u001b[0;32m\"<ipython-input-73-415619909fe1>\"\u001b[0;36m, line \u001b[0;32m1\u001b[0m\n\u001b[0;31m    ry = [random.random] for i in range(1000):\u001b[0m\n\u001b[0m                           ^\u001b[0m\n\u001b[0;31mSyntaxError\u001b[0m\u001b[0;31m:\u001b[0m invalid syntax\n"
     ]
    }
   ],
   "source": [
    "ry = [random.random] for i in range(1000)"
   ]
  },
  {
   "cell_type": "code",
   "execution_count": null,
   "metadata": {
    "ExecuteTime": {
     "end_time": "2019-07-24T14:18:31.543378Z",
     "start_time": "2019-07-24T14:18:30.753Z"
    }
   },
   "outputs": [],
   "source": [
    "#No Autocorr for random data"
   ]
  },
  {
   "cell_type": "markdown",
   "metadata": {},
   "source": [
    "### Autoregressive Model\n",
    "\n",
    "p = hyperparameter how many periods we look into the past\n",
    "\n",
    "AR(p):\n",
    "\n",
    "$y_t = c + w_1 y_{t-1} + w_2 y_{t-2} .. + w_p y_{t-p} + \\epsilon_t$"
   ]
  },
  {
   "cell_type": "code",
   "execution_count": null,
   "metadata": {
    "ExecuteTime": {
     "end_time": "2019-07-24T14:18:31.555468Z",
     "start_time": "2019-07-24T14:18:31.114Z"
    }
   },
   "outputs": [],
   "source": [
    "# generate date (200 persiods) using an AR(p) process\n",
    "data = [0,0]\n",
    "c = 18.0\n",
    "w1 = -0.8\n",
    "\n",
    "for i in range(200):\n",
    "    yt = c + w1 * data[-1]\n",
    "    data.append(yt)"
   ]
  },
  {
   "cell_type": "code",
   "execution_count": null,
   "metadata": {
    "ExecuteTime": {
     "end_time": "2019-07-24T14:18:31.579222Z",
     "start_time": "2019-07-24T14:18:31.320Z"
    }
   },
   "outputs": [],
   "source": [
    "# generate date (200 persiods) using an AR(p) process\n",
    "data = [12,5]\n",
    "c = 18.0\n",
    "w1 = -0.8\n",
    "\n",
    "for i in range(200):\n",
    "    yt = c + w1 * data[-1] + random.random()\n",
    "    data.append(yt)"
   ]
  },
  {
   "cell_type": "code",
   "execution_count": 45,
   "metadata": {
    "ExecuteTime": {
     "end_time": "2019-07-24T14:18:31.950852Z",
     "start_time": "2019-07-24T14:18:31.693177Z"
    }
   },
   "outputs": [
    {
     "data": {
      "image/png": "[encoded data removed]",
      "text/plain": [
       "<Figure size 432x288 with 1 Axes>"
      ]
     },
     "metadata": {
      "needs_background": "light"
     },
     "output_type": "display_data"
    }
   ],
   "source": [
    "plt.plot(list(range(202)), data)\n",
    "plt.title(\"The generatet series is it stationary?\")\n",
    "None"
   ]
  },
  {
   "cell_type": "code",
   "execution_count": 46,
   "metadata": {
    "ExecuteTime": {
     "end_time": "2019-07-24T14:18:32.270254Z",
     "start_time": "2019-07-24T14:18:32.018307Z"
    }
   },
   "outputs": [
    {
     "data": {
      "image/png": "[encoded data removed]",
      "text/plain": [
       "<Figure size 432x288 with 1 Axes>"
      ]
     },
     "metadata": {
      "needs_background": "light"
     },
     "output_type": "display_data"
    }
   ],
   "source": [
    "plt.plot(list(range(202)), data)\n",
    "None"
   ]
  },
  {
   "cell_type": "code",
   "execution_count": 47,
   "metadata": {
    "ExecuteTime": {
     "end_time": "2019-07-24T14:18:32.564642Z",
     "start_time": "2019-07-24T14:18:32.324670Z"
    }
   },
   "outputs": [
    {
     "data": {
      "image/png": "[encoded data removed]",
      "text/plain": [
       "<Figure size 432x288 with 1 Axes>"
      ]
     },
     "metadata": {
      "needs_background": "light"
     },
     "output_type": "display_data"
    }
   ],
   "source": [
    "plot_acf(data, lags=20)\n",
    "None"
   ]
  },
  {
   "cell_type": "markdown",
   "metadata": {},
   "source": [
    "Try:\n",
    "* c=18, w1=-0.8\n",
    "* c= 8, w1= 1.3, w2=-0.7"
   ]
  },
  {
   "cell_type": "code",
   "execution_count": 48,
   "metadata": {
    "ExecuteTime": {
     "end_time": "2019-07-24T14:18:32.623612Z",
     "start_time": "2019-07-24T14:18:32.615874Z"
    }
   },
   "outputs": [],
   "source": [
    "# generate data (200 periods)"
   ]
  },
  {
   "cell_type": "code",
   "execution_count": 49,
   "metadata": {
    "ExecuteTime": {
     "end_time": "2019-07-24T14:18:33.063694Z",
     "start_time": "2019-07-24T14:18:32.678450Z"
    }
   },
   "outputs": [
    {
     "data": {
      "text/plain": [
       "<BarContainer object of 41 artists>"
      ]
     },
     "execution_count": 49,
     "metadata": {},
     "output_type": "execute_result"
    },
    {
     "data": {
      "image/png": "[encoded data removed]",
      "text/plain": [
       "<Figure size 432x288 with 1 Axes>"
      ]
     },
     "metadata": {
      "needs_background": "light"
     },
     "output_type": "display_data"
    }
   ],
   "source": [
    "autocorr = acf(y)\n",
    "plt.bar(range(len(autocorr)), autocorr)\n",
    "None"
   ]
  },
  {
   "cell_type": "code",
   "execution_count": null,
   "metadata": {},
   "outputs": [],
   "source": []
  },
  {
   "cell_type": "markdown",
   "metadata": {},
   "source": [
    "### Initialize and fit an ARIMA model"
   ]
  },
  {
   "cell_type": "code",
   "execution_count": 66,
   "metadata": {
    "ExecuteTime": {
     "end_time": "2019-07-24T14:21:05.231339Z",
     "start_time": "2019-07-24T14:21:05.225357Z"
    }
   },
   "outputs": [],
   "source": [
    "from statsmodels.tsa.arima_model import ARIMA\n",
    "import numpy as np"
   ]
  },
  {
   "cell_type": "code",
   "execution_count": 67,
   "metadata": {
    "ExecuteTime": {
     "end_time": "2019-07-24T14:21:06.238259Z",
     "start_time": "2019-07-24T14:21:06.234438Z"
    }
   },
   "outputs": [],
   "source": [
    "y_train = data[:150] #different from sklearn train test split\n",
    "y_test = data[150:] # test set always the last part of your data"
   ]
  },
  {
   "cell_type": "code",
   "execution_count": 68,
   "metadata": {
    "ExecuteTime": {
     "end_time": "2019-07-24T14:21:08.561678Z",
     "start_time": "2019-07-24T14:21:08.338669Z"
    },
    "scrolled": false
   },
   "outputs": [],
   "source": [
    "# (ar, d, ma) <- Order of the ARIMA model\n",
    "#                (usually small numbers)\n",
    "# ar - autoregressive part\n",
    "#  d - damping\n",
    "# ma - moving average part\n",
    "\n",
    "#1 -> 2 -> look 2 steps into the past\n",
    "#2 -> 0 dumping irgends value\n",
    "#3 -> 2 moving average of the residuals\n",
    "m = ARIMA(y_train, (2, 0, 2))\n",
    "m.initialize()\n",
    "r = m.fit()"
   ]
  },
  {
   "cell_type": "code",
   "execution_count": 69,
   "metadata": {
    "ExecuteTime": {
     "end_time": "2019-07-24T14:21:12.418635Z",
     "start_time": "2019-07-24T14:21:12.410580Z"
    }
   },
   "outputs": [
    {
     "data": {
      "text/plain": [
       "(50,)"
      ]
     },
     "execution_count": 69,
     "metadata": {},
     "output_type": "execute_result"
    }
   ],
   "source": [
    "y_pred, err, conf = r.forecast(steps=50) #predicted error. confidance\n",
    "y_pred.shape"
   ]
  },
  {
   "cell_type": "code",
   "execution_count": 70,
   "metadata": {
    "ExecuteTime": {
     "end_time": "2019-07-24T14:21:16.784472Z",
     "start_time": "2019-07-24T14:21:16.778454Z"
    }
   },
   "outputs": [
    {
     "data": {
      "text/plain": [
       "(150,)"
      ]
     },
     "execution_count": 70,
     "metadata": {},
     "output_type": "execute_result"
    }
   ],
   "source": [
    "# plot the forecast\n",
    "r.fittedvalues\n",
    "r.fittedvalues.shape"
   ]
  },
  {
   "cell_type": "code",
   "execution_count": 72,
   "metadata": {
    "ExecuteTime": {
     "end_time": "2019-07-24T14:21:32.753081Z",
     "start_time": "2019-07-24T14:21:32.483022Z"
    }
   },
   "outputs": [
    {
     "data": {
      "image/png": "[encoded data removed]",
      "text/plain": [
       "<Figure size 432x288 with 1 Axes>"
      ]
     },
     "metadata": {
      "needs_background": "light"
     },
     "output_type": "display_data"
    }
   ],
   "source": [
    "plt.plot(range(150),y_train, color='blue')\n",
    "plt.plot(range(150),r.fittedvalues, color='orange')\n",
    "plt.plot(range(150,200), y_pred, color='red')\n",
    "None"
   ]
  },
  {
   "cell_type": "code",
   "execution_count": 57,
   "metadata": {
    "ExecuteTime": {
     "end_time": "2019-07-24T14:18:52.061869Z",
     "start_time": "2019-07-24T14:18:52.054384Z"
    }
   },
   "outputs": [
    {
     "data": {
      "text/plain": [
       "(array([10.15967229]),\n",
       " array([0.40873929]),\n",
       " array([[ 9.358558  , 10.96078658]]))"
      ]
     },
     "execution_count": 57,
     "metadata": {},
     "output_type": "execute_result"
    }
   ],
   "source": [
    "# now predict 1 period at a time\n",
    "r.forecast(steps=1)"
   ]
  },
  {
   "cell_type": "code",
   "execution_count": 58,
   "metadata": {
    "ExecuteTime": {
     "end_time": "2019-07-24T14:18:52.213274Z",
     "start_time": "2019-07-24T14:18:52.205912Z"
    }
   },
   "outputs": [],
   "source": [
    "# plot again"
   ]
  },
  {
   "cell_type": "markdown",
   "metadata": {},
   "source": []
  },
  {
   "cell_type": "code",
   "execution_count": null,
   "metadata": {},
   "outputs": [],
   "source": []
  }
 ],
 "metadata": {
  "hide_input": false,
  "kernelspec": {
   "display_name": "Python 3",
   "language": "python",
   "name": "python3"
  },
  "language_info": {
   "codemirror_mode": {
    "name": "ipython",
    "version": 3
   },
   "file_extension": ".py",
   "mimetype": "text/x-python",
   "name": "python",
   "nbconvert_exporter": "python",
   "pygments_lexer": "ipython3",
   "version": "3.7.3"
  },
  "nbTranslate": {
   "displayLangs": [
    "*"
   ],
   "hotkey": "alt-t",
   "langInMainMenu": true,
   "sourceLang": "en",
   "targetLang": "fr",
   "useGoogleTranslate": true
  },
  "toc": {
   "base_numbering": 1,
   "nav_menu": {},
   "number_sections": true,
   "sideBar": true,
   "skip_h1_title": false,
   "title_cell": "Table of Contents",
   "title_sidebar": "Contents",
   "toc_cell": false,
   "toc_position": {},
   "toc_section_display": true,
   "toc_window_display": false
  },
  "varInspector": {
   "cols": {
    "lenName": 16,
    "lenType": 16,
    "lenVar": 40
   },
   "kernels_config": {
    "python": {
     "delete_cmd_postfix": "",
     "delete_cmd_prefix": "del ",
     "library": "var_list.py",
     "varRefreshCmd": "print(var_dic_list())"
    },
    "r": {
     "delete_cmd_postfix": ") ",
     "delete_cmd_prefix": "rm(",
     "library": "var_list.r",
     "varRefreshCmd": "cat(var_dic_list()) "
    }
   },
   "types_to_exclude": [
    "module",
    "function",
    "builtin_function_or_method",
    "instance",
    "_Feature"
   ],
   "window_display": false
  }
 },
 "nbformat": 4,
 "nbformat_minor": 2
}
