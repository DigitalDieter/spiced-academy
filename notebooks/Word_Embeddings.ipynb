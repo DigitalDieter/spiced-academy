{
 "cells": [
  {
   "cell_type": "markdown",
   "metadata": {},
   "source": [
    "## Word Embeddings"
   ]
  },
  {
   "cell_type": "markdown",
   "metadata": {},
   "source": [
    "### Objectives:\n",
    "\n",
    "* Introduction:\n",
    "\n",
    "* Understand the concepts in word embeddings\n",
    "\n",
    "* Use a pretrained word2vec model (spacy)\n",
    "\n",
    "* Train a word2vec model on your own corpus (gensim)\n",
    "\n",
    "* Visualize the results using PCA\n",
    "\n",
    "*prerequisites: spacy, gensim*"
   ]
  },
  {
   "cell_type": "markdown",
   "metadata": {},
   "source": [
    "---"
   ]
  },
  {
   "cell_type": "markdown",
   "metadata": {},
   "source": [
    "### Introduction:"
   ]
  },
  {
   "cell_type": "markdown",
   "metadata": {},
   "source": [
    "* What: Word embeddings are dense representations of words in a low-dimensional vector space. Embeddings translate discrete variables (words/phrases) to continuous vectors. Word embedding models (Genism / Glove) are to NLP as VGGNET is to image recognition; a pre-trained model, ready for use out the box.\n",
    "\n",
    "* Why: three main uses for word embeddings:\n",
    "\n",
    "    1- Finding nearest neighbors in the embedding space. These can be used to find similarities in terms, make recommendations based on user interests, cluster categories etc.\n",
    "\n",
    "    2 - For visualization of concepts and relations between categories.\n",
    "\n",
    "    3 - As input to a machine learning model for a supervised task.\n",
    "\n",
    "* How: Optimize a supervised learning problem (neural word embedding), then use the weights of the activation layer vector as the word embedding representation of a particular word.\n",
    "\n",
    "see ` Efficient Estimation of Word Representations in Vector Space by Mikolov et al.,2013` for more information"
   ]
  },
  {
   "cell_type": "markdown",
   "metadata": {},
   "source": [
    "---"
   ]
  },
  {
   "cell_type": "markdown",
   "metadata": {},
   "source": [
    "### Understand the concepts"
   ]
  },
  {
   "cell_type": "markdown",
   "metadata": {},
   "source": [
    "Check out the `Tensorflow embedding projector` <http://projector.tensorflow.org/> to see a dimensionality reduced representation of the similarity between words"
   ]
  },
  {
   "cell_type": "markdown",
   "metadata": {},
   "source": [
    "### The task:\n",
    "* Predict context"
   ]
  },
  {
   "cell_type": "markdown",
   "metadata": {},
   "source": [
    "![title](cbow_vs_skipg.png)"
   ]
  },
  {
   "cell_type": "markdown",
   "metadata": {},
   "source": [
    "#### Input to the model:\n",
    "* Tokenize text\n",
    "    * Split your corpus\n",
    "    * Enumerate through the set of words\n",
    "    * Create a word dictionary and an id dictionary\n",
    "    * Also works with CountVectorizer's vocabulary_ attribute"
   ]
  },
  {
   "cell_type": "code",
   "execution_count": 9,
   "metadata": {
    "ExecuteTime": {
     "end_time": "2019-08-02T06:01:34.528177Z",
     "start_time": "2019-08-02T06:01:34.507210Z"
    }
   },
   "outputs": [],
   "source": [
    "from sklearn.feature_extraction.text import CountVectorizer"
   ]
  },
  {
   "cell_type": "code",
   "execution_count": 10,
   "metadata": {
    "ExecuteTime": {
     "end_time": "2019-08-02T06:01:35.194441Z",
     "start_time": "2019-08-02T06:01:35.161969Z"
    }
   },
   "outputs": [],
   "source": [
    "c = CountVectorizer()"
   ]
  },
  {
   "cell_type": "code",
   "execution_count": 14,
   "metadata": {
    "ExecuteTime": {
     "end_time": "2019-08-02T06:01:52.837950Z",
     "start_time": "2019-08-02T06:01:52.721681Z"
    }
   },
   "outputs": [],
   "source": [
    "vec_corpus = c.fit_transform(corpus)"
   ]
  },
  {
   "cell_type": "code",
   "execution_count": 15,
   "metadata": {
    "ExecuteTime": {
     "end_time": "2019-08-02T06:01:57.758478Z",
     "start_time": "2019-08-02T06:01:57.734981Z"
    }
   },
   "outputs": [
    {
     "data": {
      "text/plain": [
       "matrix([[0, 0, 0, 1, 0, 1, 1, 1, 0, 0, 0, 0, 0, 0, 0, 2],\n",
       "        [0, 0, 0, 0, 0, 0, 1, 0, 2, 1, 1, 1, 0, 1, 0, 1],\n",
       "        [1, 1, 1, 0, 0, 0, 0, 0, 0, 0, 0, 0, 0, 0, 0, 0],\n",
       "        [0, 0, 0, 0, 1, 0, 0, 0, 0, 0, 0, 0, 1, 0, 1, 1]], dtype=int64)"
      ]
     },
     "execution_count": 15,
     "metadata": {},
     "output_type": "execute_result"
    }
   ],
   "source": [
    "vec_corpus.todense()"
   ]
  },
  {
   "cell_type": "code",
   "execution_count": 16,
   "metadata": {
    "ExecuteTime": {
     "end_time": "2019-08-02T06:01:58.373202Z",
     "start_time": "2019-08-02T06:01:58.360600Z"
    }
   },
   "outputs": [
    {
     "data": {
      "text/plain": [
       "{'the': 15,\n",
       " 'cat': 3,\n",
       " 'sat': 7,\n",
       " 'on': 6,\n",
       " 'mat': 5,\n",
       " 'she': 10,\n",
       " 'sells': 9,\n",
       " 'sea': 8,\n",
       " 'shells': 11,\n",
       " 'shore': 13,\n",
       " 'backstreets': 2,\n",
       " 'back': 1,\n",
       " 'alright': 0,\n",
       " 'sun': 14,\n",
       " 'is': 4,\n",
       " 'shining': 12}"
      ]
     },
     "execution_count": 16,
     "metadata": {},
     "output_type": "execute_result"
    }
   ],
   "source": [
    "c.vocabulary_"
   ]
  },
  {
   "cell_type": "code",
   "execution_count": 17,
   "metadata": {
    "ExecuteTime": {
     "end_time": "2019-08-02T06:01:59.044206Z",
     "start_time": "2019-08-02T06:01:59.038370Z"
    }
   },
   "outputs": [],
   "source": [
    "corpus = ['The cat sat on the mat',\n",
    "         'She sells sea shells on the sea shore',\n",
    "         'Backstreets back alright',\n",
    "         'The sun is shining']"
   ]
  },
  {
   "cell_type": "code",
   "execution_count": 18,
   "metadata": {
    "ExecuteTime": {
     "end_time": "2019-08-02T06:02:01.494017Z",
     "start_time": "2019-08-02T06:02:00.234362Z"
    }
   },
   "outputs": [
    {
     "data": {
      "text/html": [
       "<div>\n",
       "<style scoped>\n",
       "    .dataframe tbody tr th:only-of-type {\n",
       "        vertical-align: middle;\n",
       "    }\n",
       "\n",
       "    .dataframe tbody tr th {\n",
       "        vertical-align: top;\n",
       "    }\n",
       "\n",
       "    .dataframe thead th {\n",
       "        text-align: right;\n",
       "    }\n",
       "</style>\n",
       "<table border=\"1\" class=\"dataframe\">\n",
       "  <thead>\n",
       "    <tr style=\"text-align: right;\">\n",
       "      <th></th>\n",
       "      <th>alright</th>\n",
       "      <th>back</th>\n",
       "      <th>backstreets</th>\n",
       "      <th>cat</th>\n",
       "      <th>is</th>\n",
       "      <th>mat</th>\n",
       "      <th>on</th>\n",
       "      <th>sat</th>\n",
       "      <th>sea</th>\n",
       "      <th>sells</th>\n",
       "      <th>she</th>\n",
       "      <th>shells</th>\n",
       "      <th>shining</th>\n",
       "      <th>shore</th>\n",
       "      <th>sun</th>\n",
       "      <th>the</th>\n",
       "    </tr>\n",
       "  </thead>\n",
       "  <tbody>\n",
       "    <tr>\n",
       "      <th>0</th>\n",
       "      <td>0</td>\n",
       "      <td>0</td>\n",
       "      <td>0</td>\n",
       "      <td>1</td>\n",
       "      <td>0</td>\n",
       "      <td>1</td>\n",
       "      <td>1</td>\n",
       "      <td>1</td>\n",
       "      <td>0</td>\n",
       "      <td>0</td>\n",
       "      <td>0</td>\n",
       "      <td>0</td>\n",
       "      <td>0</td>\n",
       "      <td>0</td>\n",
       "      <td>0</td>\n",
       "      <td>2</td>\n",
       "    </tr>\n",
       "    <tr>\n",
       "      <th>1</th>\n",
       "      <td>0</td>\n",
       "      <td>0</td>\n",
       "      <td>0</td>\n",
       "      <td>0</td>\n",
       "      <td>0</td>\n",
       "      <td>0</td>\n",
       "      <td>1</td>\n",
       "      <td>0</td>\n",
       "      <td>2</td>\n",
       "      <td>1</td>\n",
       "      <td>1</td>\n",
       "      <td>1</td>\n",
       "      <td>0</td>\n",
       "      <td>1</td>\n",
       "      <td>0</td>\n",
       "      <td>1</td>\n",
       "    </tr>\n",
       "    <tr>\n",
       "      <th>2</th>\n",
       "      <td>1</td>\n",
       "      <td>1</td>\n",
       "      <td>1</td>\n",
       "      <td>0</td>\n",
       "      <td>0</td>\n",
       "      <td>0</td>\n",
       "      <td>0</td>\n",
       "      <td>0</td>\n",
       "      <td>0</td>\n",
       "      <td>0</td>\n",
       "      <td>0</td>\n",
       "      <td>0</td>\n",
       "      <td>0</td>\n",
       "      <td>0</td>\n",
       "      <td>0</td>\n",
       "      <td>0</td>\n",
       "    </tr>\n",
       "    <tr>\n",
       "      <th>3</th>\n",
       "      <td>0</td>\n",
       "      <td>0</td>\n",
       "      <td>0</td>\n",
       "      <td>0</td>\n",
       "      <td>1</td>\n",
       "      <td>0</td>\n",
       "      <td>0</td>\n",
       "      <td>0</td>\n",
       "      <td>0</td>\n",
       "      <td>0</td>\n",
       "      <td>0</td>\n",
       "      <td>0</td>\n",
       "      <td>1</td>\n",
       "      <td>0</td>\n",
       "      <td>1</td>\n",
       "      <td>1</td>\n",
       "    </tr>\n",
       "  </tbody>\n",
       "</table>\n",
       "</div>"
      ],
      "text/plain": [
       "   alright  back  backstreets  cat  is  mat  on  sat  sea  sells  she  shells  \\\n",
       "0        0     0            0    1   0    1   1    1    0      0    0       0   \n",
       "1        0     0            0    0   0    0   1    0    2      1    1       1   \n",
       "2        1     1            1    0   0    0   0    0    0      0    0       0   \n",
       "3        0     0            0    0   1    0   0    0    0      0    0       0   \n",
       "\n",
       "   shining  shore  sun  the  \n",
       "0        0      0    0    2  \n",
       "1        0      1    0    1  \n",
       "2        0      0    0    0  \n",
       "3        1      0    1    1  "
      ]
     },
     "execution_count": 18,
     "metadata": {},
     "output_type": "execute_result"
    }
   ],
   "source": [
    "import pandas as pd\n",
    "\n",
    "df = pd.DataFrame(vec_corpus.todense(), columns = list(sorted(c.vocabulary_)))\n",
    "df"
   ]
  },
  {
   "cell_type": "markdown",
   "metadata": {},
   "source": [
    "### The model"
   ]
  },
  {
   "cell_type": "markdown",
   "metadata": {},
   "source": [
    "![title](skip_nn.png)"
   ]
  },
  {
   "cell_type": "markdown",
   "metadata": {},
   "source": [
    "### Output from the model:\n",
    "\n",
    "* A vectorized representation of the predictor word\n",
    "\n",
    "* Lets see a pretrained model's implementation\n",
    "    "
   ]
  },
  {
   "cell_type": "markdown",
   "metadata": {},
   "source": [
    "---"
   ]
  },
  {
   "cell_type": "markdown",
   "metadata": {},
   "source": [
    "### Use a pretrained word2vec model (spacy)"
   ]
  },
  {
   "cell_type": "code",
   "execution_count": 19,
   "metadata": {
    "ExecuteTime": {
     "end_time": "2019-08-02T06:02:09.595637Z",
     "start_time": "2019-08-02T06:02:07.559184Z"
    }
   },
   "outputs": [],
   "source": [
    "import spacy\n",
    "\n",
    "nlp = spacy.load('en_core_web_sm')"
   ]
  },
  {
   "cell_type": "code",
   "execution_count": 20,
   "metadata": {
    "ExecuteTime": {
     "end_time": "2019-08-02T06:02:10.292022Z",
     "start_time": "2019-08-02T06:02:10.275401Z"
    }
   },
   "outputs": [],
   "source": [
    "corpus.append('US political parties can succeed')"
   ]
  },
  {
   "cell_type": "code",
   "execution_count": 21,
   "metadata": {
    "ExecuteTime": {
     "end_time": "2019-08-02T06:02:11.174073Z",
     "start_time": "2019-08-02T06:02:11.026975Z"
    }
   },
   "outputs": [],
   "source": [
    "doc = nlp(corpus[len(corpus)-1])"
   ]
  },
  {
   "cell_type": "code",
   "execution_count": 22,
   "metadata": {
    "ExecuteTime": {
     "end_time": "2019-08-02T06:02:11.862417Z",
     "start_time": "2019-08-02T06:02:11.830267Z"
    }
   },
   "outputs": [],
   "source": [
    "political = doc[1]\n",
    "parties = doc[2]\n",
    "succeed = doc[4]"
   ]
  },
  {
   "cell_type": "code",
   "execution_count": null,
   "metadata": {},
   "outputs": [],
   "source": []
  },
  {
   "cell_type": "code",
   "execution_count": 23,
   "metadata": {
    "ExecuteTime": {
     "end_time": "2019-08-02T06:02:13.229636Z",
     "start_time": "2019-08-02T06:02:12.552416Z"
    }
   },
   "outputs": [
    {
     "name": "stdout",
     "output_type": "stream",
     "text": [
      "0.09397331\n",
      "-0.11618046\n"
     ]
    },
    {
     "name": "stderr",
     "output_type": "stream",
     "text": [
      "/Users/digitaldieter/miniconda3/lib/python3.7/runpy.py:193: ModelsWarning: [W007] The model you're using has no word vectors loaded, so the result of the Token.similarity method will be based on the tagger, parser and NER, which may not give useful similarity judgements. This may happen if you're using one of the small models, e.g. `en_core_web_sm`, which don't ship with word vectors and only use context-sensitive tensors. You can always add your own word vectors, or use one of the larger models instead if available.\n",
      "  \"__main__\", mod_spec)\n",
      "/Users/digitaldieter/miniconda3/lib/python3.7/runpy.py:193: ModelsWarning: [W007] The model you're using has no word vectors loaded, so the result of the Token.similarity method will be based on the tagger, parser and NER, which may not give useful similarity judgements. This may happen if you're using one of the small models, e.g. `en_core_web_sm`, which don't ship with word vectors and only use context-sensitive tensors. You can always add your own word vectors, or use one of the larger models instead if available.\n",
      "  \"__main__\", mod_spec)\n"
     ]
    }
   ],
   "source": [
    "print(political.similarity(parties))\n",
    "print(political.similarity(succeed))"
   ]
  },
  {
   "cell_type": "markdown",
   "metadata": {},
   "source": [
    "---"
   ]
  },
  {
   "cell_type": "markdown",
   "metadata": {},
   "source": [
    "### Train a word2vec model on your own corpus (gensim)"
   ]
  },
  {
   "cell_type": "code",
   "execution_count": 24,
   "metadata": {
    "ExecuteTime": {
     "end_time": "2019-08-02T06:02:18.232489Z",
     "start_time": "2019-08-02T06:02:13.894659Z"
    }
   },
   "outputs": [],
   "source": [
    "from gensim.models import Word2Vec"
   ]
  },
  {
   "cell_type": "code",
   "execution_count": 25,
   "metadata": {
    "ExecuteTime": {
     "end_time": "2019-08-02T06:02:18.870863Z",
     "start_time": "2019-08-02T06:02:18.861121Z"
    }
   },
   "outputs": [
    {
     "data": {
      "text/plain": [
       "[['the', 'cat', 'sat', 'on', 'the', 'mat'],\n",
       " ['she', 'sells', 'sea', 'shells', 'on', 'the', 'sea', 'shore'],\n",
       " ['backstreets', 'back', 'alright'],\n",
       " ['the', 'sun', 'is', 'shining'],\n",
       " ['us', 'political', 'parties', 'can', 'succeed']]"
      ]
     },
     "execution_count": 25,
     "metadata": {},
     "output_type": "execute_result"
    }
   ],
   "source": [
    "new_corpus = [each.lower().split() for each in corpus]\n",
    "new_corpus"
   ]
  },
  {
   "cell_type": "code",
   "execution_count": 26,
   "metadata": {
    "ExecuteTime": {
     "end_time": "2019-08-02T06:02:19.314614Z",
     "start_time": "2019-08-02T06:02:19.292493Z"
    }
   },
   "outputs": [],
   "source": [
    "model = Word2Vec(new_corpus, size=4, window=3, min_count=1)"
   ]
  },
  {
   "cell_type": "code",
   "execution_count": 27,
   "metadata": {
    "ExecuteTime": {
     "end_time": "2019-08-02T06:02:20.356170Z",
     "start_time": "2019-08-02T06:02:20.342952Z"
    }
   },
   "outputs": [],
   "source": [
    "words = list(model.wv.vocab)"
   ]
  },
  {
   "cell_type": "code",
   "execution_count": 28,
   "metadata": {
    "ExecuteTime": {
     "end_time": "2019-08-02T06:02:20.885353Z",
     "start_time": "2019-08-02T06:02:20.864547Z"
    }
   },
   "outputs": [
    {
     "data": {
      "text/plain": [
       "dict"
      ]
     },
     "execution_count": 28,
     "metadata": {},
     "output_type": "execute_result"
    }
   ],
   "source": [
    "type(model.wv.vocab)"
   ]
  },
  {
   "cell_type": "markdown",
   "metadata": {},
   "source": [
    "---"
   ]
  },
  {
   "cell_type": "markdown",
   "metadata": {},
   "source": [
    "### And visualise the results"
   ]
  },
  {
   "cell_type": "code",
   "execution_count": 29,
   "metadata": {
    "ExecuteTime": {
     "end_time": "2019-08-02T06:02:21.688455Z",
     "start_time": "2019-08-02T06:02:21.416844Z"
    }
   },
   "outputs": [
    {
     "name": "stdout",
     "output_type": "stream",
     "text": [
      "(21, 4)\n"
     ]
    },
    {
     "name": "stderr",
     "output_type": "stream",
     "text": [
      "/Users/digitaldieter/miniconda3/lib/python3.7/site-packages/ipykernel_launcher.py:5: DeprecationWarning: Call to deprecated `__getitem__` (Method will be removed in 4.0.0, use self.wv.__getitem__() instead).\n",
      "  \"\"\"\n"
     ]
    }
   ],
   "source": [
    "from sklearn.decomposition import PCA\n",
    "\n",
    "pca = PCA(n_components=2)\n",
    "\n",
    "X = model[model.wv.vocab]\n",
    "print(X.shape)"
   ]
  },
  {
   "cell_type": "code",
   "execution_count": 30,
   "metadata": {
    "ExecuteTime": {
     "end_time": "2019-08-02T06:02:22.369758Z",
     "start_time": "2019-08-02T06:02:22.118615Z"
    }
   },
   "outputs": [],
   "source": [
    "new_x = pca.fit_transform(X)"
   ]
  },
  {
   "cell_type": "code",
   "execution_count": 31,
   "metadata": {
    "ExecuteTime": {
     "end_time": "2019-08-02T06:02:26.484189Z",
     "start_time": "2019-08-02T06:02:23.159059Z"
    }
   },
   "outputs": [
    {
     "data": {
      "image/png": "[encoded data removed]",
      "text/plain": [
       "<Figure size 576x576 with 1 Axes>"
      ]
     },
     "metadata": {
      "needs_background": "light"
     },
     "output_type": "display_data"
    }
   ],
   "source": [
    "from matplotlib import pyplot as plt\n",
    "%matplotlib inline\n",
    "\n",
    "plt.figure(figsize=(8,8))\n",
    "plt.scatter(new_x[:,0], new_x[:,1])\n",
    "for i, word in enumerate(words):\n",
    "    plt.annotate(word, fontsize=10, xy=(new_x[i,0],new_x[i,1]))\n",
    "plt.show()"
   ]
  },
  {
   "cell_type": "code",
   "execution_count": null,
   "metadata": {},
   "outputs": [],
   "source": []
  }
 ],
 "metadata": {
  "@webio": {
   "lastCommId": null,
   "lastKernelId": null
  },
  "hide_input": false,
  "kernelspec": {
   "display_name": "Python 3",
   "language": "python",
   "name": "python3"
  },
  "language_info": {
   "codemirror_mode": {
    "name": "ipython",
    "version": 3
   },
   "file_extension": ".py",
   "mimetype": "text/x-python",
   "name": "python",
   "nbconvert_exporter": "python",
   "pygments_lexer": "ipython3",
   "version": "3.7.3"
  },
  "nbTranslate": {
   "displayLangs": [
    "*"
   ],
   "hotkey": "alt-t",
   "langInMainMenu": true,
   "sourceLang": "en",
   "targetLang": "fr",
   "useGoogleTranslate": true
  },
  "toc": {
   "base_numbering": 1,
   "nav_menu": {},
   "number_sections": true,
   "sideBar": true,
   "skip_h1_title": false,
   "title_cell": "Table of Contents",
   "title_sidebar": "Contents",
   "toc_cell": false,
   "toc_position": {},
   "toc_section_display": true,
   "toc_window_display": false
  },
  "varInspector": {
   "cols": {
    "lenName": 16,
    "lenType": 16,
    "lenVar": 40
   },
   "kernels_config": {
    "python": {
     "delete_cmd_postfix": "",
     "delete_cmd_prefix": "del ",
     "library": "var_list.py",
     "varRefreshCmd": "print(var_dic_list())"
    },
    "r": {
     "delete_cmd_postfix": ") ",
     "delete_cmd_prefix": "rm(",
     "library": "var_list.r",
     "varRefreshCmd": "cat(var_dic_list()) "
    }
   },
   "types_to_exclude": [
    "module",
    "function",
    "builtin_function_or_method",
    "instance",
    "_Feature"
   ],
   "window_display": false
  }
 },
 "nbformat": 4,
 "nbformat_minor": 2
}
